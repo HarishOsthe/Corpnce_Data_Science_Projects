{
 "cells": [
  {
   "cell_type": "code",
   "execution_count": 17,
   "metadata": {},
   "outputs": [],
   "source": [
    "# We are creating a box plot and checking the data points for IQR\n",
    "# We are importing the requisite modules \n",
    "\n",
    "import pandas as pd\n",
    "import matplotlib.pyplot as plt\n",
    "import seaborn as sns\n",
    "import numpy as np\n"
   ]
  },
  {
   "cell_type": "code",
   "execution_count": 18,
   "metadata": {},
   "outputs": [],
   "source": [
    "df1 = pd.read_excel('canada_company_sales_data.xlsx',sheet_name = 'Store Sales')\n",
    "df1.to_csv('canada_sales.csv')\n",
    "df = pd.read_csv('canada_sales.csv')"
   ]
  },
  {
   "cell_type": "code",
   "execution_count": 29,
   "metadata": {},
   "outputs": [
    {
     "data": {
      "text/html": [
       "<div>\n",
       "<style scoped>\n",
       "    .dataframe tbody tr th:only-of-type {\n",
       "        vertical-align: middle;\n",
       "    }\n",
       "\n",
       "    .dataframe tbody tr th {\n",
       "        vertical-align: top;\n",
       "    }\n",
       "\n",
       "    .dataframe thead th {\n",
       "        text-align: right;\n",
       "    }\n",
       "</style>\n",
       "<table border=\"1\" class=\"dataframe\">\n",
       "  <thead>\n",
       "    <tr style=\"text-align: right;\">\n",
       "      <th></th>\n",
       "      <th>Unnamed: 0</th>\n",
       "      <th>Order ID</th>\n",
       "      <th>Order Date</th>\n",
       "      <th>Order Priority</th>\n",
       "      <th>Order Quantity</th>\n",
       "      <th>Sales</th>\n",
       "      <th>Ship Mode</th>\n",
       "      <th>Shipping Cost</th>\n",
       "      <th>Province</th>\n",
       "      <th>Customer Segment</th>\n",
       "      <th>Product Category</th>\n",
       "      <th>Product Sub-Category</th>\n",
       "      <th>Product Container</th>\n",
       "      <th>Ship Date</th>\n",
       "    </tr>\n",
       "  </thead>\n",
       "  <tbody>\n",
       "    <tr>\n",
       "      <th>0</th>\n",
       "      <td>0</td>\n",
       "      <td>928</td>\n",
       "      <td>2011-03-01</td>\n",
       "      <td>Low</td>\n",
       "      <td>26</td>\n",
       "      <td>390.2000</td>\n",
       "      <td>Express Air</td>\n",
       "      <td>7.40</td>\n",
       "      <td>British Columbia</td>\n",
       "      <td>Consumer</td>\n",
       "      <td>Furniture</td>\n",
       "      <td>Office Furnishings</td>\n",
       "      <td>Small Box</td>\n",
       "      <td>2011-03-03</td>\n",
       "    </tr>\n",
       "    <tr>\n",
       "      <th>1</th>\n",
       "      <td>1</td>\n",
       "      <td>32323</td>\n",
       "      <td>2010-07-23</td>\n",
       "      <td>High</td>\n",
       "      <td>38</td>\n",
       "      <td>259.7175</td>\n",
       "      <td>Regular Air</td>\n",
       "      <td>5.03</td>\n",
       "      <td>Ontario</td>\n",
       "      <td>Small Business</td>\n",
       "      <td>Technology</td>\n",
       "      <td>Telephones and Communication</td>\n",
       "      <td>Medium Box</td>\n",
       "      <td>2010-07-25</td>\n",
       "    </tr>\n",
       "    <tr>\n",
       "      <th>2</th>\n",
       "      <td>2</td>\n",
       "      <td>48353</td>\n",
       "      <td>2012-12-15</td>\n",
       "      <td>Not Specified</td>\n",
       "      <td>18</td>\n",
       "      <td>71.2200</td>\n",
       "      <td>Regular Air</td>\n",
       "      <td>0.70</td>\n",
       "      <td>British Columbia</td>\n",
       "      <td>Corporate</td>\n",
       "      <td>Office Supplies</td>\n",
       "      <td>Pens &amp; Art Supplies</td>\n",
       "      <td>Wrap Bag</td>\n",
       "      <td>2012-12-17</td>\n",
       "    </tr>\n",
       "    <tr>\n",
       "      <th>3</th>\n",
       "      <td>3</td>\n",
       "      <td>10144</td>\n",
       "      <td>2011-01-02</td>\n",
       "      <td>Critical</td>\n",
       "      <td>1</td>\n",
       "      <td>192.4900</td>\n",
       "      <td>Delivery Truck</td>\n",
       "      <td>30.00</td>\n",
       "      <td>British Columbia</td>\n",
       "      <td>Corporate</td>\n",
       "      <td>Furniture</td>\n",
       "      <td>Chairs &amp; Chairmats</td>\n",
       "      <td>Jumbo Drum</td>\n",
       "      <td>2011-01-04</td>\n",
       "    </tr>\n",
       "    <tr>\n",
       "      <th>4</th>\n",
       "      <td>4</td>\n",
       "      <td>26756</td>\n",
       "      <td>2012-05-10</td>\n",
       "      <td>Medium</td>\n",
       "      <td>25</td>\n",
       "      <td>767.2600</td>\n",
       "      <td>Regular Air</td>\n",
       "      <td>4.00</td>\n",
       "      <td>British Columbia</td>\n",
       "      <td>Home Office</td>\n",
       "      <td>Technology</td>\n",
       "      <td>Computer Peripherals</td>\n",
       "      <td>Small Box</td>\n",
       "      <td>2012-05-10</td>\n",
       "    </tr>\n",
       "  </tbody>\n",
       "</table>\n",
       "</div>"
      ],
      "text/plain": [
       "   Unnamed: 0  Order ID  Order Date Order Priority  Order Quantity     Sales  \\\n",
       "0           0       928  2011-03-01            Low              26  390.2000   \n",
       "1           1     32323  2010-07-23           High              38  259.7175   \n",
       "2           2     48353  2012-12-15  Not Specified              18   71.2200   \n",
       "3           3     10144  2011-01-02       Critical               1  192.4900   \n",
       "4           4     26756  2012-05-10         Medium              25  767.2600   \n",
       "\n",
       "        Ship Mode  Shipping Cost          Province Customer Segment  \\\n",
       "0     Express Air           7.40  British Columbia         Consumer   \n",
       "1     Regular Air           5.03           Ontario   Small Business   \n",
       "2     Regular Air           0.70  British Columbia        Corporate   \n",
       "3  Delivery Truck          30.00  British Columbia        Corporate   \n",
       "4     Regular Air           4.00  British Columbia      Home Office   \n",
       "\n",
       "  Product Category          Product Sub-Category Product Container   Ship Date  \n",
       "0        Furniture            Office Furnishings         Small Box  2011-03-03  \n",
       "1       Technology  Telephones and Communication        Medium Box  2010-07-25  \n",
       "2  Office Supplies           Pens & Art Supplies          Wrap Bag  2012-12-17  \n",
       "3        Furniture            Chairs & Chairmats        Jumbo Drum  2011-01-04  \n",
       "4       Technology          Computer Peripherals         Small Box  2012-05-10  "
      ]
     },
     "execution_count": 29,
     "metadata": {},
     "output_type": "execute_result"
    }
   ],
   "source": [
    "df.head()"
   ]
  },
  {
   "cell_type": "code",
   "execution_count": 36,
   "metadata": {},
   "outputs": [
    {
     "name": "stdout",
     "output_type": "stream",
     "text": [
      "count    8399.000000\n",
      "mean       12.838557\n",
      "std        17.264052\n",
      "min         0.490000\n",
      "25%         3.300000\n",
      "50%         6.070000\n",
      "75%        13.990000\n",
      "max       164.730000\n",
      "Name: Shipping Cost, dtype: float64\n",
      "The value of lower quartile is =  3.3\n",
      "The median or 50th percentile is =  6.07\n",
      "The value of upper quartile is =  13.99\n",
      "The IQR for shipping cost is =  10.690000000000001\n"
     ]
    }
   ],
   "source": [
    "# print(df['Shipping Cost'].value_counts())\n",
    "# df['Shipping Cost'].count\n",
    "print(df['Shipping Cost'].describe())\n",
    "\n",
    "q1 = df['Shipping Cost'].quantile(0.25)\n",
    "print('The value of lower quartile is = ', q1)\n",
    "\n",
    "q2 = df['Shipping Cost'].quantile(0.50)\n",
    "print('The median or 50th percentile is = ', q2)\n",
    "\n",
    "q3 = df['Shipping Cost'].quantile(0.75)\n",
    "print('The value of upper quartile is = ', q3)\n",
    "\n",
    "iqr = q3 - q1\n",
    "print('The IQR for shipping cost is = ', iqr)"
   ]
  },
  {
   "cell_type": "code",
   "execution_count": 21,
   "metadata": {},
   "outputs": [
    {
     "name": "stdout",
     "output_type": "stream",
     "text": [
      "The total number of lower outliers is =  0\n",
      "The total number of upper outliers is =  7427\n",
      "Total values falling in range is =  972\n"
     ]
    }
   ],
   "source": [
    "# Now we can calculate the number of outliers using this information\n",
    "# x = (df['Shipping Cost']<(q1 - 1.5 * iqr)) | (df['Shipping Cost']<(q3 + 1.5 * iqr)).sum()\n",
    "no_lower_outliers = 0\n",
    "no_upper_outliers = 0\n",
    "normal_values = 0\n",
    "for i in df['Shipping Cost'].values:\n",
    "    if i < (q1 - 1.5 * iqr):\n",
    "        no_lower_outliers+=1\n",
    "    elif i < (q3 + 1.5 * iqr):\n",
    "        no_upper_outliers+=1\n",
    "    else:\n",
    "        normal_values+=1\n",
    "print('The total number of lower outliers is = ', no_lower_outliers)\n",
    "print('The total number of upper outliers is = ', no_upper_outliers)\n",
    "print('Total values falling in range is = ', normal_values)"
   ]
  },
  {
   "cell_type": "code",
   "execution_count": 39,
   "metadata": {},
   "outputs": [
    {
     "data": {
      "image/png": "[encoded data removed]",
      "text/plain": [
       "<matplotlib.figure.Figure at 0x2d0e456a0b8>"
      ]
     },
     "metadata": {},
     "output_type": "display_data"
    }
   ],
   "source": [
    "# plt.boxplot(df['Shipping Cost'])\n",
    "# from pylab import rcParams\n",
    "sns.set_style('whitegrid')\n",
    "sns.boxplot(df['Shipping Cost'], palette = 'Set2_r', orient = 'h')\n",
    "plt.xlim(0,50)\n",
    "# plt.ylim (0, 50)\n",
    "plt.show()"
   ]
  },
  {
   "cell_type": "code",
   "execution_count": 23,
   "metadata": {},
   "outputs": [
    {
     "data": {
      "image/png": "[encoded data removed]",
      "text/plain": [
       "<matplotlib.figure.Figure at 0x2d0e34326d8>"
      ]
     },
     "metadata": {},
     "output_type": "display_data"
    }
   ],
   "source": [
    "# Creating multiple boxplots \n",
    "fig, ax = plt.subplots()\n",
    "fig.set_size_inches(18, 14)\n",
    "sns.boxplot(x = 'Ship Mode', y = 'Shipping Cost', data = df, palette = 'Set2', ax = ax)\n",
    "plt.show()"
   ]
  },
  {
   "cell_type": "code",
   "execution_count": 24,
   "metadata": {},
   "outputs": [
    {
     "data": {
      "image/png": "[encoded data removed]",
      "text/plain": [
       "<matplotlib.figure.Figure at 0x2d0e3432748>"
      ]
     },
     "metadata": {},
     "output_type": "display_data"
    }
   ],
   "source": [
    "fig, ax = plt.subplots()\n",
    "fig.set_size_inches(11, 8)\n",
    "sns.boxplot(x = 'Ship Mode', y = 'Shipping Cost', hue = 'Product Category', data = df, palette = 'Set2', ax = ax)\n",
    "plt.show()"
   ]
  },
  {
   "cell_type": "code",
   "execution_count": 25,
   "metadata": {},
   "outputs": [],
   "source": [
    "# g = sns.FacetGrid(df, col='Ship Mode', row ='Shipping Cost')\n",
    "# g = g.map(sns.boxplot,'Product Category' , order = ['Furniture', 'Technology', 'Office Supplies'])\n",
    "# plt.show()"
   ]
  }
 ],
 "metadata": {
  "kernelspec": {
   "display_name": "Python 3",
   "language": "python",
   "name": "python3"
  },
  "language_info": {
   "codemirror_mode": {
    "name": "ipython",
    "version": 3
   },
   "file_extension": ".py",
   "mimetype": "text/x-python",
   "name": "python",
   "nbconvert_exporter": "python",
   "pygments_lexer": "ipython3",
   "version": "3.6.3"
  }
 },
 "nbformat": 4,
 "nbformat_minor": 2
}
