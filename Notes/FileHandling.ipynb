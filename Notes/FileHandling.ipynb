{
 "cells": [
  {
   "cell_type": "code",
   "execution_count": 68,
   "metadata": {},
   "outputs": [
    {
     "data": {
      "text/html": [
       "<div>\n",
       "<style scoped>\n",
       "    .dataframe tbody tr th:only-of-type {\n",
       "        vertical-align: middle;\n",
       "    }\n",
       "\n",
       "    .dataframe tbody tr th {\n",
       "        vertical-align: top;\n",
       "    }\n",
       "\n",
       "    .dataframe thead th {\n",
       "        text-align: right;\n",
       "    }\n",
       "</style>\n",
       "<table border=\"1\" class=\"dataframe\">\n",
       "  <thead>\n",
       "    <tr style=\"text-align: right;\">\n",
       "      <th></th>\n",
       "      <th>data</th>\n",
       "      <th>data2</th>\n",
       "    </tr>\n",
       "  </thead>\n",
       "  <tbody>\n",
       "    <tr>\n",
       "      <th>0</th>\n",
       "      <td>1</td>\n",
       "      <td>osthe</td>\n",
       "    </tr>\n",
       "  </tbody>\n",
       "</table>\n",
       "</div>"
      ],
      "text/plain": [
       "   data  data2\n",
       "0     1  osthe"
      ]
     },
     "execution_count": 68,
     "metadata": {},
     "output_type": "execute_result"
    }
   ],
   "source": [
    "import xlrd\n",
    "import pandas as pd\n",
    "df=pd.read_excel(\"excel.xlsx\")\n",
    "df"
   ]
  },
  {
   "cell_type": "code",
   "execution_count": 50,
   "metadata": {},
   "outputs": [
    {
     "name": "stdout",
     "output_type": "stream",
     "text": [
      "aaaaaaaaaaaaaaaaaa\n",
      "bbbbbb\n",
      "26\n",
      "0\n",
      "aaaaaaaaaaaaaaaaaa\n",
      "bbbbbb\n"
     ]
    }
   ],
   "source": [
    "# context manager\n",
    "with open(\"sample.txt\",\"r\") as f:\n",
    "    fc=f.read(25)\n",
    "    print(fc)\n",
    "    print(f.tell())\n",
    "    f.seek(0)\n",
    "    print(f.tell())\n",
    "    print(f.read(25))"
   ]
  },
  {
   "cell_type": "code",
   "execution_count": 41,
   "metadata": {},
   "outputs": [
    {
     "name": "stdout",
     "output_type": "stream",
     "text": [
      "aaaaaaaaaaaaaaaaaa\n",
      "bbbbbbbbbbbbbbbbbb\n",
      "ccccccccccccccccccc\n",
      "ddddddddddddddd\n",
      "eeeeeeeeeeeee\n",
      "\n"
     ]
    }
   ],
   "source": [
    "f=open(\"sample.txt\",\"r\")\n",
    "fc=f.read(25)\n",
    "print(fc)\n",
    "\n",
    "fc=f.read(25)\n",
    "print(fc,end=\"\")\n",
    "f.close()"
   ]
  },
  {
   "cell_type": "code",
   "execution_count": 61,
   "metadata": {},
   "outputs": [],
   "source": [
    "# image read and write\n",
    "with open(\"img.jpg\",\"rb\") as imgr:\n",
    "    with open(\"img_copy.jpg\",\"wb\") as imgw:\n",
    "        for l in imgr:\n",
    "            imgw.write(l)"
   ]
  },
  {
   "cell_type": "code",
   "execution_count": 59,
   "metadata": {},
   "outputs": [],
   "source": [
    "# file copying\n",
    "with open(\"sam3.txt\",\"r\") as f1:\n",
    "    with open(\"new.txt\",\"w\") as f2:\n",
    "        fc=f1.read()\n",
    "        f2.write(fc)"
   ]
  },
  {
   "cell_type": "code",
   "execution_count": 57,
   "metadata": {},
   "outputs": [],
   "source": [
    "# file writing\n",
    "with open(\"sam3.txt\",\"a\") as fw:\n",
    "    \n",
    "    li_txt=[\"hello\\n\",\"World!\\n\",\":)\"]\n",
    "#     fw.write(\"hello world!\")\n",
    "    fw.writelines(li_txt)"
   ]
  },
  {
   "cell_type": "code",
   "execution_count": 34,
   "metadata": {},
   "outputs": [
    {
     "name": "stdout",
     "output_type": "stream",
     "text": [
      "typing typing typing typing\n",
      "typing typing\n",
      "typing typing\n",
      "typing typingTrue\n"
     ]
    }
   ],
   "source": [
    "# syntax for file open(\"address\",\"mode\"):'mode-r,w,a'\n",
    "%pwd\n",
    "f=open(\"E:\\\\linux\\\\readme.txt\",\"r\")\n",
    "# fc=f.read()\n",
    "# fc=f.readlines() \"\"\"prints all the lines in list\"\"\"\n",
    "\n",
    "# fc=f.readline()\n",
    "# print(fc,end=\"*\")\n",
    "\n",
    "# fc=f.readline()\n",
    "# print(fc,end=\"*\")\n",
    "\n",
    "\n",
    "for line in f:\n",
    "    print(line,end=\"\")\n",
    "# print(f)\n",
    "f.close()\n",
    "# print(f.closed)#f.name, f.mode, f.closed"
   ]
  },
  {
   "cell_type": "code",
   "execution_count": 17,
   "metadata": {},
   "outputs": [
    {
     "name": "stdout",
     "output_type": "stream",
     "text": [
      "<list_iterator object at 0x0000028D8B082978>\n"
     ]
    },
    {
     "ename": "StopIteration",
     "evalue": "",
     "output_type": "error",
     "traceback": [
      "\u001b[1;31m---------------------------------------------------------------------------\u001b[0m",
      "\u001b[1;31mStopIteration\u001b[0m                             Traceback (most recent call last)",
      "\u001b[1;32m<ipython-input-17-fda4f31f6060>\u001b[0m in \u001b[0;36m<module>\u001b[1;34m()\u001b[0m\n\u001b[0;32m      5\u001b[0m \u001b[0mx\u001b[0m\u001b[1;33m.\u001b[0m\u001b[0m__next__\u001b[0m\u001b[1;33m(\u001b[0m\u001b[1;33m)\u001b[0m\u001b[1;33m\u001b[0m\u001b[0m\n\u001b[0;32m      6\u001b[0m \u001b[0mx\u001b[0m\u001b[1;33m.\u001b[0m\u001b[0m__next__\u001b[0m\u001b[1;33m(\u001b[0m\u001b[1;33m)\u001b[0m\u001b[1;33m\u001b[0m\u001b[0m\n\u001b[1;32m----> 7\u001b[1;33m \u001b[0mx\u001b[0m\u001b[1;33m.\u001b[0m\u001b[0m__next__\u001b[0m\u001b[1;33m(\u001b[0m\u001b[1;33m)\u001b[0m\u001b[1;33m\u001b[0m\u001b[0m\n\u001b[0m",
      "\u001b[1;31mStopIteration\u001b[0m: "
     ]
    }
   ],
   "source": [
    "x=iter([1,2,3,4])\n",
    "print(x)\n",
    "x.__next__()\n",
    "x.__next__()\n",
    "x.__next__()\n",
    "x.__next__()\n",
    "x.__next__()"
   ]
  }
 ],
 "metadata": {
  "kernelspec": {
   "display_name": "Python 3",
   "language": "python",
   "name": "python3"
  },
  "language_info": {
   "codemirror_mode": {
    "name": "ipython",
    "version": 3
   },
   "file_extension": ".py",
   "mimetype": "text/x-python",
   "name": "python",
   "nbconvert_exporter": "python",
   "pygments_lexer": "ipython3",
   "version": "3.6.6"
  }
 },
 "nbformat": 4,
 "nbformat_minor": 2
}
