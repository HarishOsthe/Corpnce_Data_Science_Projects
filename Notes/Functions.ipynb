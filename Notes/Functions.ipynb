{
 "cells": [
  {
   "cell_type": "code",
   "execution_count": 11,
   "metadata": {},
   "outputs": [
    {
     "name": "stdout",
     "output_type": "stream",
     "text": [
      "[1, 3, 5, 7, 9]\n"
     ]
    }
   ],
   "source": [
    "# syntax: def fun_name():\n",
    "#         //statements\n",
    "#         return ()\n",
    "\n",
    "\n",
    "# def sum(a,b):\n",
    "#     print(a+b)\n",
    "\n",
    "# y=sum(4,5)+6\n",
    "\n",
    "# def sum(a=4,b):\n",
    "#     return (a+b)\n",
    "\n",
    "# y=sum(4)\n",
    "# print(y)\n",
    "\n",
    "\n",
    "# x=[1,2,3,4]\n",
    "\n",
    "# def li(x):\n",
    "#     y=[i for i in x if i%2 != 0]\n",
    "#     return y\n",
    "# c=li(x)\n",
    "# print(c)\n",
    "\n",
    "\n"
   ]
  }
 ],
 "metadata": {
  "kernelspec": {
   "display_name": "Python 3",
   "language": "python",
   "name": "python3"
  },
  "language_info": {
   "codemirror_mode": {
    "name": "ipython",
    "version": 3
   },
   "file_extension": ".py",
   "mimetype": "text/x-python",
   "name": "python",
   "nbconvert_exporter": "python",
   "pygments_lexer": "ipython3",
   "version": "3.6.7"
  }
 },
 "nbformat": 4,
 "nbformat_minor": 2
}
