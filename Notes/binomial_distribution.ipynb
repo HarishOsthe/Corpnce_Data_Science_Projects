{
 "cells": [
  {
   "cell_type": "code",
   "execution_count": 2,
   "metadata": {},
   "outputs": [],
   "source": [
    "import pandas as pd\n",
    "import numpy as np\n",
    "from scipy import stats\n",
    "import matplotlib.pyplot as plt\n",
    "import seaborn as sns\n"
   ]
  },
  {
   "cell_type": "code",
   "execution_count": 20,
   "metadata": {
    "scrolled": true
   },
   "outputs": [
    {
     "name": "stdout",
     "output_type": "stream",
     "text": [
      "0\n"
     ]
    },
    {
     "data": {
      "image/png": "[encoded data removed]",
      "text/plain": [
       "<matplotlib.figure.Figure at 0x2077e54f128>"
      ]
     },
     "metadata": {},
     "output_type": "display_data"
    }
   ],
   "source": [
    "# Create a Bernoulli Distribution\n",
    "ber_data = np.random.binomial(1, 0.5)\n",
    "print(ber_data)\n",
    "\n",
    "plt.hist(ber_data)\n",
    "plt.show()"
   ]
  },
  {
   "cell_type": "code",
   "execution_count": 187,
   "metadata": {
    "scrolled": false
   },
   "outputs": [
    {
     "data": {
      "image/png": "[encoded data removed]",
      "text/plain": [
       "<matplotlib.figure.Figure at 0x22c4160b160>"
      ]
     },
     "metadata": {},
     "output_type": "display_data"
    }
   ],
   "source": [
    "data_bern = stats.binom.rvs(n = 1,p=0.5,size=1000)\n",
    "ax = sns.distplot(data_bern, kde=False)\n",
    "ax.set(xlabel='Bernouli', ylabel='Frequency')\n",
    "plt.show()"
   ]
  },
  {
   "cell_type": "markdown",
   "metadata": {},
   "source": [
    "Let's create and visualize a binomial distribution. There are two ways of creating a binomial distributions. One you have seen using numpy.random.binomial() function and the other one is using scipy.stats.binom."
   ]
  },
  {
   "cell_type": "code",
   "execution_count": 188,
   "metadata": {},
   "outputs": [
    {
     "name": "stdout",
     "output_type": "stream",
     "text": [
      "The mean is 2.0\n",
      " The variance is 1.2\n",
      " The skewness is 0.18257418583505533\n",
      " The Kurtosis is -0.3666666666666668\n"
     ]
    }
   ],
   "source": [
    "# Let's create a simple binomial distribution\n",
    "from scipy.stats import binom\n",
    "n, p = 5, 0.4\n",
    "mean, var, skew, kurt = binom.stats(n, p, moments='mvsk')\n",
    "print('The mean is {}\\n The variance is {}\\n The skewness is {}\\n The Kurtosis is {}'.format(mean, var, skew, kurt))"
   ]
  },
  {
   "cell_type": "code",
   "execution_count": 22,
   "metadata": {},
   "outputs": [
    {
     "data": {
      "image/png": "[encoded data removed]",
      "text/plain": [
       "<matplotlib.figure.Figure at 0x2077f691b70>"
      ]
     },
     "metadata": {},
     "output_type": "display_data"
    }
   ],
   "source": [
    "# Inverse Cummulative Distribution function\n",
    "from scipy.stats import binom\n",
    "\n",
    "fig, ax = plt.subplots(1, 1)\n",
    "\n",
    "# n, p = 5, 0.4\n",
    "# x = np.arange(binom.ppf(0.01, n, p),binom.ppf(0.99, n, p))\n",
    "# rv = binom.pmf(x,n,p)\n",
    "# sns.distplot(rv)\n",
    "# plt.show()\n",
    "\n",
    "\n",
    "n, p = 5, 0.4\n",
    "x = np.arange(binom.ppf(0.01, n, p),binom.ppf(0.99, n, p))\n",
    "ax.plot(x, binom.pmf(x, n, p), 'bo', ms=8, label='binom pmf')\n",
    "ax.vlines(x, 0, binom.pmf(x, n, p), colors='b', lw=5, alpha=0.5)\n",
    "rv = binom(n, p)\n",
    "ax.vlines(x, 0, rv.pmf(x), colors='k', linestyles='-', lw=1, label='frozen pmf')\n",
    "ax.legend(loc='best', frameon=False)\n",
    "plt.show()"
   ]
  },
  {
   "cell_type": "code",
   "execution_count": 190,
   "metadata": {},
   "outputs": [
    {
     "name": "stdout",
     "output_type": "stream",
     "text": [
      "[5 5 5 6 5 5 4 6 5 5]\n"
     ]
    },
    {
     "data": {
      "image/png": "[encoded data removed]",
      "text/plain": [
       "<matplotlib.figure.Figure at 0x22c42a09390>"
      ]
     },
     "metadata": {},
     "output_type": "display_data"
    }
   ],
   "source": [
    "# We will use scipy.stats.binom here for generating Random Variables and PMF\n",
    "# Scipy(SCYentific PYthon) is a library and it supports many statistical distributions\n",
    "\n",
    "# We want to calcualte, no of success from 10 trials with p = 0.5 \n",
    "binomial_data = stats.binom.rvs(n=10,p=0.5)\n",
    "# print(binomial_data)\n",
    "\n",
    "# If we want to repeat the test for let's say 10 times then we can do that by passing size\n",
    "binomial_data = stats.binom.rvs(n=10,p=0.5,size=10)\n",
    "print(binomial_data)\n",
    "\n",
    "fig, (ax1, ax2) = plt.subplots(1, 2)\n",
    "fig.set_size_inches(8, 4)\n",
    "# Let us generate 100000 from binomial distribution and plot the distribution.\n",
    "data_binom_scipy = stats.binom.rvs(n=10, p=0.5, size=100000)\n",
    "ax = sns.distplot(data_binom_scipy, kde=False, color='Red', ax = ax1)\n",
    "ax.set(xlabel='Binomial', ylabel='Frequency')\n",
    "\n",
    "\n",
    "data_binom_numpy = np.random.binomial(n=10, p=0.5, size=100000)\n",
    "ax = sns.distplot(data_binom_numpy, kde=False, color='Green', ax = ax2)\n",
    "ax.set(xlabel='Binomial', ylabel='Frequency') \n",
    "plt.title('Binomial Using Numpy')\n",
    "plt.tight_layout()\n",
    "plt.show()\n"
   ]
  },
  {
   "cell_type": "code",
   "execution_count": 33,
   "metadata": {},
   "outputs": [
    {
     "name": "stdout",
     "output_type": "stream",
     "text": [
      "37 earthquakes back to back in 273.972602739726 years.\n"
     ]
    }
   ],
   "source": [
    "# Simulation is a great way to predict the probabilities\n",
    "# Let's say we want to calculate the probability of earthquake in Delhi at any given day\n",
    "# We know that probability of earthqauke in Delhi at any given day is 2%\n",
    "# What is the chance that earthquake will happen in 2 consecutive days?\n",
    "\n",
    "chance_of_earthquake = 0.02\n",
    "earthquake_events = np.random.binomial(1, chance_of_earthquake, 100000)\n",
    "# print(earthquake_events)\n",
    "two_days_in_a_row = 0\n",
    "for i in range(1, len(earthquake_events)-1):\n",
    "        if earthquake_events[i] == 1 and earthquake_events[i-1]==1:\n",
    "            two_days_in_a_row +=1\n",
    "            \n",
    "print('{} earthquakes back to back in {} years.'.format(two_days_in_a_row,100000/365))\n",
    "\n",
    "\n",
    "# Now let's say we want to plot our PMF \n",
    "\n",
    "# sns.set_style('whitegrid')\n",
    "# fig, ax = plt.subplots()\n",
    "# fig.set_size_inches(14, 10)\n",
    "# sns.distributions()"
   ]
  },
  {
   "cell_type": "markdown",
   "metadata": {},
   "source": [
    "http://cmdlinetips.com/2018/03/probability-distributions-in-python/"
   ]
  }
 ],
 "metadata": {
  "kernelspec": {
   "display_name": "Python 3",
   "language": "python",
   "name": "python3"
  },
  "language_info": {
   "codemirror_mode": {
    "name": "ipython",
    "version": 3
   },
   "file_extension": ".py",
   "mimetype": "text/x-python",
   "name": "python",
   "nbconvert_exporter": "python",
   "pygments_lexer": "ipython3",
   "version": "3.6.6"
  }
 },
 "nbformat": 4,
 "nbformat_minor": 2
}
