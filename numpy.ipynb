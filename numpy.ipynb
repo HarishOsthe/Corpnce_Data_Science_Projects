{
 "cells": [
  {
   "cell_type": "code",
   "execution_count": 2,
   "metadata": {},
   "outputs": [],
   "source": [
    "# pip install numpy\n",
    "# importing numpy library\n",
    "import numpy as np"
   ]
  },
  {
   "cell_type": "code",
   "execution_count": 3,
   "metadata": {},
   "outputs": [
    {
     "name": "stdout",
     "output_type": "stream",
     "text": [
      "[1 3 5 6]\n",
      "(4,)\n",
      "4\n",
      "1\n"
     ]
    }
   ],
   "source": [
    "# create a numpy array from python list\n",
    "x = np.array([1, 3, 5, 6])\n",
    "print(x)\n",
    "\n",
    "# Check the shape of the array\n",
    "print(x.shape)\n",
    "\n",
    "# Print the size of the array\n",
    "# It is the total number of elements in the array\n",
    "print(x.size)\n",
    "\n",
    "# Check the dimension of the array\n",
    "print(x.ndim)"
   ]
  },
  {
   "cell_type": "code",
   "execution_count": 4,
   "metadata": {},
   "outputs": [
    {
     "name": "stdout",
     "output_type": "stream",
     "text": [
      "float32\n",
      "[[0 0 0 0 0]\n",
      " [0 0 0 0 0]\n",
      " [0 0 0 0 0]]\n",
      "[[ 1.  1.  1.  1.  1.]\n",
      " [ 1.  1.  1.  1.  1.]\n",
      " [ 1.  1.  1.  1.  1.]]\n",
      "[[ 3.141  3.141  3.141  3.141  3.141]\n",
      " [ 3.141  3.141  3.141  3.141  3.141]\n",
      " [ 3.141  3.141  3.141  3.141  3.141]]\n"
     ]
    }
   ],
   "source": [
    "# Create arrays from scratch\n",
    "# Create an empty array\n",
    "x = np.empty([3, 5], dtype = np.float32) # You can change the Datatype of the array\n",
    "print(x.dtype)\n",
    "\n",
    "# Create a matrix of zeros\n",
    "y = np.zeros([3, 5], dtype = 'int')\n",
    "print(y)\n",
    "\n",
    "# Create a matrix of ones\n",
    "z = np.ones([3, 5])\n",
    "print(z)\n",
    "\n",
    "# Create a 3*5 array filled with 3.141\n",
    "m = np.full((3, 5), 3.141)\n",
    "print(m)"
   ]
  },
  {
   "cell_type": "code",
   "execution_count": 5,
   "metadata": {},
   "outputs": [
    {
     "name": "stdout",
     "output_type": "stream",
     "text": [
      "[ 0  2  4  6  8 10 12 14 16 18]\n",
      "[ 2.  4.  6.]\n",
      "The uniform distribution is =\n",
      " [[ 0.82744206  0.96036858  0.37807274]\n",
      " [ 0.83823679  0.1856934   0.5480639 ]\n",
      " [ 0.65964391  0.24540786  0.30501498]]\n",
      "The normal distribution is =\n",
      "  [[-1.28776012 -0.5305137  -1.01292306]\n",
      " [-1.55436375 -0.04083867 -0.70901341]\n",
      " [-0.52283298  2.4116772   0.43565139]]\n",
      "The integer matrix is = \n",
      " [[2 4 4]\n",
      " [5 2 5]\n",
      " [0 0 3]]\n",
      "(3, 3)\n",
      "2\n",
      "9\n"
     ]
    }
   ],
   "source": [
    "# Create array object using numpy with step size 2 and range between 0 to 20\n",
    "x = np.arange(0, 20, 2)\n",
    "print(x)\n",
    "\n",
    "# Create an array of five values evenly spaced between 1 and 4\n",
    "y = np.linspace(2, 6, 3)\n",
    "print(y)\n",
    "\n",
    "# create a 3*3 array of uniformly distributed random values between 0 and 1\n",
    "z = np.random.rand(3, 3) \n",
    "# remember you can also use np.random.random((3, 3))\n",
    "# The only difference is how it handles the arguments that's it!\n",
    "print('The uniform distribution is =\\n',z)\n",
    "\n",
    "# You can also create random matrix from normal distribution\n",
    "# With specific standard deviation and mean value\n",
    "\n",
    "normal_dist = np.random.normal(0, 1, (3,3))\n",
    "print('The normal distribution is =\\n ',normal_dist)\n",
    "\n",
    "\n",
    "# We can also create the random matrix of integers\n",
    "# Lets say we want to create a random matrix between number 1 to 5 \n",
    "# Here 5 is inclusive i.e. [1,5] or (0,6) or [1,6)\n",
    "\n",
    "int_mat = np.random.randint(0, 6, (3, 3))\n",
    "print('The integer matrix is = \\n',int_mat)\n",
    "print(int_mat.shape)\n",
    "print(int_mat.ndim)\n",
    "print(int_mat.size)"
   ]
  },
  {
   "cell_type": "code",
   "execution_count": 6,
   "metadata": {},
   "outputs": [
    {
     "name": "stdout",
     "output_type": "stream",
     "text": [
      "int32\n",
      "float32\n",
      "float64\n",
      "[12  9  4 -2  0  9]\n",
      "int32\n"
     ]
    }
   ],
   "source": [
    "# you can explicitly convert or cast an array from one datatype to another \n",
    "# using ndarray's astype method\n",
    "\n",
    "arr = np.array([1, 2, 3, 4, 5])\n",
    "print(arr.dtype)\n",
    "\n",
    "arr1 = arr.astype('float32') # This is not an inplace function\n",
    "print(arr1.dtype)\n",
    "\n",
    "arr2 = np.array([12.4, 9.6, 4.5, -2.6, 0.5, 9.8]) \n",
    "print(arr2.dtype)\n",
    "\n",
    "arr3 = arr2.astype('int32') # It will convert float to integers and round the values\n",
    "print(arr3)\n",
    "print(arr3.dtype)"
   ]
  },
  {
   "cell_type": "code",
   "execution_count": null,
   "metadata": {},
   "outputs": [],
   "source": [
    "# If you are trying to convert one dtype to another dtype\n",
    "# If it is not possible then it will raise ValueError\n",
    "\n",
    "try:\n",
    "    arr  = np.array(['1.2', '3', 'ram'], dtype = 'string_')\n",
    "    print(arr.dtype)\n",
    "    arr1 = arr.astype(np.int32)\n",
    "    \n",
    "except ValueError:\n",
    "    print('Cant convert the string to intgers')\n",
    "    \n",
    "# NOTE:\n",
    "# Calling astype always create a new array (a copy of the data), even if the new dtype is the \n",
    "# same as the old dtype"
   ]
  },
  {
   "cell_type": "code",
   "execution_count": null,
   "metadata": {},
   "outputs": [],
   "source": [
    "# Create a range of numpy arrays with step size\n",
    "x = np.arange(0, 10, 2)\n",
    "print(x)"
   ]
  },
  {
   "cell_type": "markdown",
   "metadata": {},
   "source": [
    "Python for loops are very slow and large dataset can be time consuming. To avoid these for loops numpy supports vectorization."
   ]
  },
  {
   "cell_type": "code",
   "execution_count": null,
   "metadata": {},
   "outputs": [],
   "source": [
    "\n",
    "arr = np.array([\n",
    "    [1, 2, 3],\n",
    "    [4, 5, 6]\n",
    "])\n",
    "# we can do the arithmatic operation on these arrays\n",
    "# for the same size it will do the element wise opertations\n",
    "print('The array is = \\n', arr)\n",
    "print('Multiplication of two arrays=\\n',arr*arr)\n",
    "\n",
    "# If the two arrays have different shape then you can use np.dot function\n",
    "arr1 = arr.T # We are taking the transpose \n",
    "print('The shape of the array after transpose is = ', arr1.shape)\n",
    "print('The multiplication of two arrays = \\n', arr.dot(arr1))\n",
    "\n",
    "print('Subtraction of two arrays = \\n', arr-arr)\n",
    "print('Square root of the array is = \\n', arr**0.5)"
   ]
  },
  {
   "cell_type": "code",
   "execution_count": null,
   "metadata": {},
   "outputs": [],
   "source": [
    "# You can also compare between two arrays of same size\n",
    "# The o/p is a boolean matrix\n",
    "\n",
    "arr = np.array([\n",
    "    [1, 2, 3],\n",
    "    [4, 5, 6]\n",
    "])\n",
    "\n",
    "arr1 = np.array([\n",
    "    [1, 2, 3],\n",
    "    [7, 8, 9]\n",
    "])\n",
    "\n",
    "print('Comparing two numpy arrays of same size if greater\\n', arr > arr1)\n",
    "print('Comparing two numpy arrays of same size if equal\\n', arr == arr1)"
   ]
  },
  {
   "cell_type": "markdown",
   "metadata": {},
   "source": [
    "Numpy Indexing and slicing"
   ]
  },
  {
   "cell_type": "code",
   "execution_count": null,
   "metadata": {},
   "outputs": [],
   "source": [
    "# one dimensional array is like a python list\n",
    "arr = np.arange(10)\n",
    "print(arr[5])\n",
    "print(arr[2:5])\n",
    "# we can assign new values\n",
    "arr[5:8] = 12\n",
    "print(arr)"
   ]
  },
  {
   "cell_type": "markdown",
   "metadata": {},
   "source": [
    "The difference between Python list and numpy ndarray is that modification in Numpy's slicing array will be reflected in the original array. Let's see an example of this-"
   ]
  },
  {
   "cell_type": "code",
   "execution_count": 7,
   "metadata": {},
   "outputs": [
    {
     "name": "stdout",
     "output_type": "stream",
     "text": [
      "[5 6 7]\n",
      "[ 0  1  2  3  4  5 32  7  8  9]\n",
      "[ 0  1  2  3  4 64 64 64  8  9]\n",
      "[64 64 64]\n",
      "[ 0  1  2  3  4 64 64 64  8  9]\n"
     ]
    }
   ],
   "source": [
    "arr = np.arange(10) # Created an array of 10 elements\n",
    "arr_slice = arr[5:8] # We have a slice of the main array\n",
    "print(arr_slice)\n",
    "arr_slice[1] = 32\n",
    "print(arr) # You can see the change in the original array\n",
    "\n",
    "# The bare slice [:], will assign to all values in an array\n",
    "arr_slice[:] = 64\n",
    "print(arr)\n",
    "\n",
    "# If you want an explicit copy of the array then use .copy()\n",
    "# Remember the difference between copy and deepcopy in Python\n",
    "# Your normal copy is shallow copy whereas the deepcopy actually creates a new copy \n",
    "\n",
    "new_arr = arr[5:8].copy()\n",
    "print(new_arr)\n",
    "new_arr[:] = 32\n",
    "print(arr)"
   ]
  },
  {
   "cell_type": "code",
   "execution_count": null,
   "metadata": {},
   "outputs": [],
   "source": [
    "# Let's see some more about the high dimensional arrays\n",
    "arr2d = np.array([\n",
    "    [1, 2, 3],\n",
    "    [4, 5, 6],\n",
    "    [7, 8, 9]\n",
    "])\n",
    "# If we want to get a 1D array from this 2D array then we can use slicing\n",
    "\n",
    "slice_arr2d = arr2d[1]\n",
    "print('The 1D array is = \\n',slice_arr2d)\n",
    "\n",
    "# If we want to get the specfic element of the array \n",
    "\n",
    "ele_arr2d = arr2d[1][1]\n",
    "# ele_arr2d = arr2d[1, 1] # same as the above\n",
    "print('The middle element of the 2D array is = \\n', ele_arr2d)"
   ]
  },
  {
   "cell_type": "code",
   "execution_count": 8,
   "metadata": {},
   "outputs": [
    {
     "name": "stdout",
     "output_type": "stream",
     "text": [
      "Print the shape of the array  (2, 2, 3)\n",
      "[[1 2 3]\n",
      " [4 5 6]]\n",
      "42\n"
     ]
    }
   ],
   "source": [
    "# Let's see an example of a 3D array slicing\n",
    "\n",
    "arr3d = np.array([\n",
    "    [[1, 2, 3],\n",
    "    [4, 5, 6]],\n",
    "    [[7, 8, 9],\n",
    "    [10, 11, 12]]\n",
    "])\n",
    "# print(arr3d)\n",
    "print('Print the shape of the array ',arr3d.shape)\n",
    "print(arr3d[0]) # It will give you the first (2*3) array \n",
    "\n",
    "#we can do the assignment to the small slice of the main array\n",
    "\n",
    "slice_arr3d = arr3d[0]\n",
    "slice_arr3d = 42\n",
    "print(slice_arr3d)"
   ]
  },
  {
   "cell_type": "code",
   "execution_count": 9,
   "metadata": {},
   "outputs": [
    {
     "name": "stdout",
     "output_type": "stream",
     "text": [
      "[7 8 9]\n"
     ]
    }
   ],
   "source": [
    "# We want the row [7, 8, 9] from this list\n",
    "arr3d = np.array([\n",
    "    [[1, 2, 3],\n",
    "    [4, 5, 6]],\n",
    "    [[7, 8, 9],\n",
    "    [10, 11, 12]]\n",
    "])\n",
    "print(arr3d[1][0])\n",
    "# print(arr3d[1,0]) # Same as above "
   ]
  },
  {
   "cell_type": "code",
   "execution_count": 16,
   "metadata": {},
   "outputs": [
    {
     "name": "stdout",
     "output_type": "stream",
     "text": [
      "The data we have created is = \n",
      " [[-1.93228222 -1.34525564  0.35365754 -0.82597225  0.13894107]\n",
      " [-0.34583821  0.60731664 -0.40770129 -1.23180474 -2.05437347]\n",
      " [ 3.51063427 -0.50849332 -1.00942286 -0.84832409 -3.20690815]]\n",
      "Data after assignment is = \n",
      " [[ 0.          0.          0.35365754  0.          0.13894107]\n",
      " [ 0.          0.60731664  0.          0.          0.        ]\n",
      " [ 3.51063427  0.          0.          0.          0.        ]]\n"
     ]
    }
   ],
   "source": [
    "# Setting values in an array using condition\n",
    "\n",
    "data = np.random.randn(3, 5)\n",
    "print('The data we have created is = \\n', data)\n",
    "data[data<0]=0 # Assigning all the negative values to zero\n",
    "print('Data after assignment is = \\n', data)"
   ]
  },
  {
   "cell_type": "code",
   "execution_count": null,
   "metadata": {},
   "outputs": [],
   "source": [
    "# How to fill the elements in an empty matrix\n",
    "emp_mat = np.empty([5, 5])\n",
    "# print(emp_mat)\n",
    "\n",
    "for i in range(5):\n",
    "    for j in range(5):\n",
    "        emp_mat[i][j] = i*j\n",
    "print(emp_mat)\n",
    "\n",
    "# If we want to choose multiple rows from emp_array\n",
    "\n",
    "print(emp_mat[[2, 0, 3]]) # Simply pass a list or ndarray of integers specifying the desired order"
   ]
  },
  {
   "cell_type": "code",
   "execution_count": null,
   "metadata": {
    "scrolled": true
   },
   "outputs": [],
   "source": [
    "# We can also reshape the array using reshape function\n",
    "x = np.arange(16)\n",
    "x.reshape((4, 4))"
   ]
  },
  {
   "cell_type": "code",
   "execution_count": null,
   "metadata": {},
   "outputs": [],
   "source": [
    "# We can use fancy indexing to choose and shuffle the matrix the way we want\n",
    "x = np.arange(32).reshape(8, 4)\n",
    "print(x)\n",
    "\n",
    "# Let's say we want to choose the selected rows and selected coloumns from x\n",
    "# Selecting rows 1, 5, 7, 2 and from all the \n",
    "print('The new array we have created is = \\n', x[[1, 5, 7, 2]][:,[0, 3, 1, 2]]) \n",
    "\n",
    "# Note - Fancy indexing is not in place like normal slicing, it creates the new array"
   ]
  },
  {
   "cell_type": "code",
   "execution_count": null,
   "metadata": {},
   "outputs": [],
   "source": [
    "# Transposing arrays\n",
    "# This is not an inplace function\n",
    "\n",
    "arr = np.random.rand(5, 3)\n",
    "print(arr.shape)\n",
    "new_arr = arr.T\n",
    "print(new_arr.shape)\n",
    "print(arr.shape)\n",
    "\n",
    "# We can do inner matrix multiplication using np.dot function\n",
    "\n",
    "mul_mat = np.dot(arr, new_arr)\n",
    "print(mul_mat.shape)"
   ]
  },
  {
   "cell_type": "code",
   "execution_count": null,
   "metadata": {},
   "outputs": [],
   "source": [
    "# We can concatenate more than two arrays using numpy\n",
    "\n",
    "x = np.array([1, 2, 3, 4])\n",
    "y = np.array([5, 6, 7, 8])\n",
    "z = np.array([1, 2, 4, 5])\n",
    "\n",
    "print(np.concatenate([x, y, x]))\n",
    "\n",
    "# We can concatenate two dimensional arrays as well\n",
    "\n",
    "x = np.array([[1, 2, 3],[4, 5, 6]])\n",
    "print('We are concatenating along rows = ', np.concatenate([x, x]))\n",
    "print('We are concatenating along coloumns = \\n', np.concatenate([x, x], axis = 1))"
   ]
  },
  {
   "cell_type": "code",
   "execution_count": null,
   "metadata": {},
   "outputs": [],
   "source": [
    "# We can concatenate two different shapes of matrix\n",
    "# along vertical axis -> we will use vstack\n",
    "# ALong horizontal axis -> we will use hstack\n",
    "\n",
    "x = np.array([1, 2, 3])\n",
    "grid = np.array([[4, 5, 6], [7, 8, 9]])\n",
    "\n",
    "print('After vertical stacking = \\n',np.vstack([x, grid]))\n",
    "\n",
    "y = np.array([[10], [11]])\n",
    "print('After horizontal stacking = \\n',np.hstack([grid, y]))"
   ]
  },
  {
   "cell_type": "code",
   "execution_count": null,
   "metadata": {
    "scrolled": true
   },
   "outputs": [],
   "source": [
    "# Difference between array and asarray in numpy\n",
    "\n",
    "x = np.matrix(np.ones([3, 3]))\n",
    "print(x)\n",
    "\n",
    "# The main difference is that array (by default) will make a copy of the object, \n",
    "# while asarray will not unless necessary.\n",
    "# If we want to change the 3rd row of the matrix to 2\n",
    "np.array(x)[2] = 2\n",
    "print('After the array conversion = \\n', x) # Since the changes are made in a copy not in x\n",
    "\n",
    "np.asarray(x)[2] = 2\n",
    "print('After the asarray conversion = \\n', x) # This is an inplace operation"
   ]
  },
  {
   "cell_type": "code",
   "execution_count": null,
   "metadata": {},
   "outputs": [],
   "source": []
  }
 ],
 "metadata": {
  "kernelspec": {
   "display_name": "Python 3",
   "language": "python",
   "name": "python3"
  },
  "language_info": {
   "codemirror_mode": {
    "name": "ipython",
    "version": 3
   },
   "file_extension": ".py",
   "mimetype": "text/x-python",
   "name": "python",
   "nbconvert_exporter": "python",
   "pygments_lexer": "ipython3",
   "version": "3.6.3"
  }
 },
 "nbformat": 4,
 "nbformat_minor": 2
}
