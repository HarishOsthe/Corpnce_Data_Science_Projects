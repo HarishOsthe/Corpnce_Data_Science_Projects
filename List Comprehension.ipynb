{
 "cells": [
  {
   "cell_type": "code",
   "execution_count": 11,
   "metadata": {},
   "outputs": [
    {
     "name": "stdout",
     "output_type": "stream",
     "text": [
      "ssthe\n",
      "[4, 16]\n",
      "[4, 16]\n",
      "['H', 'e', 'l', 'l', 'o', 'W', 'o', 'r', 'l', 'd']\n"
     ]
    }
   ],
   "source": [
    "# y=[output | forloop | condition] list comprehension syntax\n",
    "\n",
    "\n",
    "\n",
    "x=[1,2,3,4]\n",
    "y=[]\n",
    "\n",
    "for i in x:\n",
    "    if i%2 == 0:\n",
    "        y.append(i**2)\n",
    "print(y)\n",
    "\n",
    "\n",
    "y=[i**2 for i in x if i%2==0]\n",
    "print(y)\n",
    "\n",
    "w=[\"Hello\",\"World\"]\n",
    "z=[k for i in w for k in i]\n",
    "print(z)\n"
   ]
  },
  {
   "cell_type": "code",
   "execution_count": 46,
   "metadata": {},
   "outputs": [
    {
     "name": "stdout",
     "output_type": "stream",
     "text": [
      "{'Name': ['Osthe', 'Harish'], 'Age': 20, 'Email': 'abc@gmail.com'}\n"
     ]
    }
   ],
   "source": [
    "# dictonary comprehension\n",
    "\n",
    "d={\n",
    "    \"Name\":[\"Osthe\",\"Harish\"],\n",
    "    \"Age\":20\n",
    "}\n",
    "d[\"Email\"]=\"abc@gmail.com\"\n",
    "print(d)"
   ]
  },
  {
   "cell_type": "code",
   "execution_count": 53,
   "metadata": {},
   "outputs": [
    {
     "name": "stdout",
     "output_type": "stream",
     "text": [
      "{'a': 1, 'b': 2, 'c': 3, 'd': 4, 'e': 5}\n"
     ]
    }
   ],
   "source": [
    "x=[\"a\",\"b\",\"c\",\"d\",\"e\"]\n",
    "y=[1,2,3,4,5]\n",
    "\n",
    "d={i:k for i,k in zip(x,y)} \n",
    "print(d)"
   ]
  }
 ],
 "metadata": {
  "kernelspec": {
   "display_name": "Python 3",
   "language": "python",
   "name": "python3"
  },
  "language_info": {
   "codemirror_mode": {
    "name": "ipython",
    "version": 3
   },
   "file_extension": ".py",
   "mimetype": "text/x-python",
   "name": "python",
   "nbconvert_exporter": "python",
   "pygments_lexer": "ipython3",
   "version": "3.6.6rc1"
  }
 },
 "nbformat": 4,
 "nbformat_minor": 2
}
